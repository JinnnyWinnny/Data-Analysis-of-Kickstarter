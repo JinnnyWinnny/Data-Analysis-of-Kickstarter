{
 "cells": [
  {
   "cell_type": "markdown",
   "metadata": {},
   "source": [
    "# COGS 108 - Final Project Proposal"
   ]
  },
  {
   "cell_type": "markdown",
   "metadata": {},
   "source": [
    "# Names\n",
    "\n",
    "- Aditi Krishnakumar\n",
    "- Gauri Samith\n",
    "- Jieun Lee\n",
    "- Seokhyun Ryu"
   ]
  },
  {
   "cell_type": "markdown",
   "metadata": {},
   "source": [
    "# Research Question"
   ]
  },
  {
   "cell_type": "markdown",
   "metadata": {},
   "source": [
    "Are there common features that contribute towards the success of a Kickstarter campaign?"
   ]
  },
  {
   "cell_type": "markdown",
   "metadata": {},
   "source": [
    "## Background and Prior Work"
   ]
  },
  {
   "cell_type": "markdown",
   "metadata": {},
   "source": [
    "- *__An Introduction to the platform:__*\n",
    "Kickstarter is an American public benefit corporation based in Brooklyn, New York, it maintains a global crowdfunding platform focused on creativity. The company's stated mission is to \"help bring creative projects to life\".As of December 2019, Kickstarter has received more than $4.6 billion in pledges from 17.2 million backers to fund 445,000 projects, such as films, music, stage shows, comics, journalism, video games, technology, publishing, and food-related projects.\n",
    "\n",
    "- *__How it works:__*\n",
    "Every project creator sets their project's funding goal and deadline. If people like the project, they can pledge money to make it happen. If the project succeeds in reaching its funding goal, all backers' credit cards are charged when time expires. Funding on Kickstarter is all-or-nothing. If the project falls short of its funding goal, no one is charged. \n",
    "\n",
    "The main question that pops up is _\"What exactly makes a project that successful?\"_ We believe that there is a possibility that successful projects do possess some common features. Thus, we plan to look into the data available from past Kickstarter projects - whether fails or successes - and see why the outcome was so.\n",
    "\n",
    "While our preliminary dataset search involved Google, our main source of datasets were portals such as Kaggle that specialize in Data Science projects. We came across the **\"Kickstarter Projects\"** and the **\"Kickstarter Project Statistics\"** datasets that fulfilled our requirements. Links to both of these are available below.\n",
    "\n",
    "**Kickstarter Projects:** There are two available files here from both December 2016 as well as January 2018. Each of these files are composed of around 300,000 to 400,000 unique projects.\n",
    "\n",
    "**Kickstarter Project Statistics:** Once again, there are two files available. This time, one of them gives us 4000 projects that were live at that point in time, and the other covers 4000 of the most backed projects at the time. \n",
    "\n",
    "Upon further inspection, we narrowed down to the **\"Kickstarter Projects\"** dataset as it was larger in size. We concur that it could likely lead to a more accurate analysis.\n",
    "\n",
    "References (include links):\n",
    "- 1)__https://www.kickstarter.com/help/taxes__ (How it works)\n",
    "- 2)__https://en.wikipedia.org/wiki/Kickstarter__ (Introduction)\n",
    "- 3)__https://www.kaggle.com/kemical/kickstarter-projects__ (Kickstarter Projects Dataset)\n",
    "- 4)__https://www.kaggle.com/socathie/kickstarter-project-statistics__ (Kickstarter Project Statistics Dataset)"
   ]
  },
  {
   "cell_type": "markdown",
   "metadata": {},
   "source": [
    "# Hypothesis\n"
   ]
  },
  {
   "cell_type": "markdown",
   "metadata": {},
   "source": [
    "We hypothesize that there are certain factors that are common within successful Kickstarter campaigns which potentially contribute towards their success. Through our analysis of the factors that differ between projects, we predict that category, funding goal, and the number of people backing the project would be the features that determine the success of a campaign. "
   ]
  },
  {
   "cell_type": "markdown",
   "metadata": {},
   "source": [
    "# Data"
   ]
  },
  {
   "cell_type": "markdown",
   "metadata": {},
   "source": [
    "Since our project focuses on determining the factors that make a Kickstarter campaign successful, our ideal dataset would include all the possible variables that differ between projects on Kickstarter. Variables such as the category of the project, the duration of the Kickstarter campaign, the amount of money set as a goal and its currency, the country the project is based in, and the number of people backing the project are all factors that could potentially impact the success of the Kickstarter campaign. The amount of money finally pledged would determine the success or failure of the campaign so our ideal dataset would include this as well. \n",
    "\n",
    "This data would be retrieved from the Kickstarter platform itself to maintain the most accurate and up-to-date information. Using the Kickstarter platform to directly retrieve data also eliminates any third-party bias when determining the ‘success’ of a project. A semi-structured CSV file would be ideal with over 100,000 observations. \n"
   ]
  },
  {
   "cell_type": "markdown",
   "metadata": {},
   "source": [
    "# Ethics & Privacy"
   ]
  },
  {
   "cell_type": "markdown",
   "metadata": {},
   "source": [
    "Our goal for this project is to gather consistent and unbiased data from reliable sources and make an analysis to answer our research question. The dataset we plan to use in this project is the “Kickstarter Projects” dataset from Kaggle, an online community of data scientists and machine learning practitioners. Since Kaggle allows the public to explore, publish, and access datasets, we have permission to use and analyze these datasets. \n",
    "\n",
    "Upon looking through these datasets, we do not find any data containing personal details, such as name, age, ethnicity, or education. Although the name of Kickstarter projects and project locations are included in these datasets, we are solely focusing on certain categories, such as duration, funding goal, currency, number of people backing, to find out what factors are contributing to the success of the project. Thus, we don’t see any privacy concern applied to us analyzing these datasets. Furthermore, all this information is already publicly available on Kickstarter and does not access confidential data. "
   ]
  },
  {
   "cell_type": "markdown",
   "metadata": {},
   "source": [
    "# Team Expectations "
   ]
  },
  {
   "cell_type": "markdown",
   "metadata": {},
   "source": [
    "* Split work equally and put in equal effort\n",
    "* Discuss as a whole before making any changes\n",
    "* Consider everyone’s ideas and suggestions for input\n",
    "* Engage proactively and meet deadlines\n"
   ]
  },
  {
   "cell_type": "markdown",
   "metadata": {},
   "source": [
    "# Project Timeline Proposal"
   ]
  },
  {
   "cell_type": "markdown",
   "metadata": {},
   "source": [
    "| Meeting Date  | Meeting Time| Completed Before Meeting  | Discuss at Meeting |\n",
    "|---|---|---|---|\n",
    "| 1/25  |  8 AM | Read & Think about COGS 108 expectations; brainstorm topics/questions  | Determine best form of communication; Discuss and decide on final project topic; discuss hypothesis; begin background research | \n",
    "| 2/28  |   8 AM |  Do background research on topic | Discuss ideal dataset(s) and ethics; draft project proposal | \n",
    "| 2/29  |  8 AM  | Edit, finalize, and submit proposal; Search for datasets  | Discuss Wrangling and possible analytical approaches; Assign group members to lead each specific part   |\n",
    "| 2/5  | 8 AM  | Import & Wrangle Data  | Review/Edit wrangling; Discuss Analysis Plan   |\n",
    "| 2/12 | 8 AM  | Finishing touches to the Data | Submit the Project Checkpoint 1, Discus EDA further  |\n",
    "| 2/18 | 8 AM  | Completed preliminary EDA individually | Discuss/Review/Edit EDA ; Discuss Analysis |\n",
    "| 2/26 | 8 AM  | Finalize wrangling/EDA; Begin Analysis  | Discuss Analysis further; Complete Project Checkpoint 2 |\n",
    "| 3/7  | 8 AM  | Complete preliminary Analysis | Review and check for drawbacks and discuss any Analysis updates |\n",
    "| 3/14   | 8 AM  | Complete analysis; Draft results/conclusion/discussion | Discuss/edit full project |\n",
    "| 3/17  | 8 AM  | NA | Turn in Final Project & Group Project Surveys |"
   ]
  },
  {
   "cell_type": "code",
   "execution_count": null,
   "metadata": {},
   "outputs": [],
   "source": []
  }
 ],
 "metadata": {
  "kernelspec": {
   "display_name": "Python 3",
   "language": "python",
   "name": "python3"
  },
  "language_info": {
   "codemirror_mode": {
    "name": "ipython",
    "version": 3
   },
   "file_extension": ".py",
   "mimetype": "text/x-python",
   "name": "python",
   "nbconvert_exporter": "python",
   "pygments_lexer": "ipython3",
   "version": "3.8.5"
  }
 },
 "nbformat": 4,
 "nbformat_minor": 2
}
